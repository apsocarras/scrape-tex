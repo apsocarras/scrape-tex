{
 "cells": [
  {
   "cell_type": "code",
   "execution_count": 23,
   "metadata": {},
   "outputs": [],
   "source": [
    "import urllib.request\n",
    "import bs4 as bs\n",
    "\n",
    "# Downloaded source pages for \"sitemap\" sections on substack:\n",
    "  # https://davidbentleyhart.substack.com/sitemap/2021\n",
    "  # https://davidbentleyhart.substack.com/sitemap/2022\n",
    "\n",
    "links = []\n",
    "for year in (2021, 2022):\n",
    "  with open(f\"data/{year}.html\", \"r\") as sitemap: \n",
    "    soup = bs.BeautifulSoup(sitemap,\"html.parser\")\n",
    "    for element in soup.find_all(\"a\", \"sitemap-link\"):\n",
    "      links.append(element['href'])"
   ]
  },
  {
   "cell_type": "code",
   "execution_count": 70,
   "metadata": {},
   "outputs": [
    {
     "data": {
      "text/plain": [
       "[<p>He left us only the one painting, unsigned and unattributed and now vaguely dated as having probably been produced (or, at any rate, completed) at some point in the late 1650’s; but this was more than enough to secure his fame—even his legend—if only under the gray, impersonal designation of the “Master of the Dordrecht Canvas”  (or “Dort Canvas”). Of t…</p>,\n",
       " <p class=\"paywall-subtitle\">Subscribe to <b><i>Leaves in the Wind</i></b> to keep reading this post and get 7 days of free access to the full post archives.</p>]"
      ]
     },
     "execution_count": 70,
     "metadata": {},
     "output_type": "execute_result"
    }
   ],
   "source": [
    "# Illustration of paywall problem: \n",
    "url = links[0]\n",
    "request_site = urllib.request.Request(url, headers={\"User-Agent\": \"Mozilla/5.0\"})\n",
    "webpage = bs.BeautifulSoup(urllib.request.urlopen(request_site).read(), \"html.parser\")\n",
    "webpage.find_all(\"p\")"
   ]
  },
  {
   "cell_type": "code",
   "execution_count": 32,
   "metadata": {},
   "outputs": [],
   "source": [
    "from selenium import webdriver\n",
    "from selenium.webdriver.common.by import By\n",
    "\n",
    "driver = webdriver.Firefox()\n",
    "url = \"https://substack.com/sign-in?redirect=%2Fsitemap&for_pub=davidbentleyhart\"\n",
    "driver.get(url)\n",
    "\n",
    "# click 'sign in with password' \n",
    "sign_in_page = driver.find_element(By.LINK_TEXT, \"sign in with password\")\n",
    "sign_in_page.click()\n",
    "\n",
    "# enter 'apsocarras@gmail.com' for username \n",
    "username = driver.find_element(By.NAME, \"email\")\n",
    "username.send_keys(\"apsocarras@gmail.com\")\n",
    "\n",
    "# enter 'AlexhasSUBSTACK123!@' for password\n",
    "password = driver.find_element(By.NAME, \"password\")\n",
    "password.send_keys(\"AlexhasSUBSTACK123!@\")\n",
    "\n",
    "# click 'sign in' button\n",
    "sign_in = driver.find_element(By.CSS_SELECTOR, \"button\")\n",
    "sign_in.click()\n",
    "\n",
    "# sign_in = driver.find_element(By.CLASS_NAME, \"button primary substack-login__go-button\")"
   ]
  },
  {
   "cell_type": "code",
   "execution_count": 25,
   "metadata": {},
   "outputs": [],
   "source": [
    "url2='https://substack.com/sign-in?redirect=%2Fsitemap&for_pub=davidbentleyhart'\n",
    "\n",
    "request_site = urllib.request.Request(url2, headers={\"User-Agent\": \"Mozilla/5.0\"})\n",
    "webpage = bs.BeautifulSoup(urllib.request.urlopen(request_site).read(), \"html.parser\")"
   ]
  },
  {
   "cell_type": "code",
   "execution_count": 29,
   "metadata": {},
   "outputs": [
    {
     "data": {
      "text/plain": [
       "<button class=\"button primary substack-login__go-button\" tabindex=\"0\" type=\"submit\">Email sign in link</button>"
      ]
     },
     "execution_count": 29,
     "metadata": {},
     "output_type": "execute_result"
    }
   ],
   "source": []
  },
  {
   "cell_type": "code",
   "execution_count": null,
   "metadata": {},
   "outputs": [],
   "source": [
    "webpage.find(\"button\")"
   ]
  }
 ],
 "metadata": {
  "kernelspec": {
   "display_name": "venv",
   "language": "python",
   "name": "python3"
  },
  "language_info": {
   "codemirror_mode": {
    "name": "ipython",
    "version": 3
   },
   "file_extension": ".py",
   "mimetype": "text/x-python",
   "name": "python",
   "nbconvert_exporter": "python",
   "pygments_lexer": "ipython3",
   "version": "3.10.6"
  },
  "orig_nbformat": 4,
  "vscode": {
   "interpreter": {
    "hash": "ae86f6b8f547174514360fefc4747236ebc495a6ebd0ceb87a98688ff9dd343f"
   }
  }
 },
 "nbformat": 4,
 "nbformat_minor": 2
}
