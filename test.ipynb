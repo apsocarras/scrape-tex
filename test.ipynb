{
 "cells": [
  {
   "cell_type": "code",
   "execution_count": 11,
   "metadata": {},
   "outputs": [
    {
     "data": {
      "text/html": [
       "<div>\n",
       "<style scoped>\n",
       "    .dataframe tbody tr th:only-of-type {\n",
       "        vertical-align: middle;\n",
       "    }\n",
       "\n",
       "    .dataframe tbody tr th {\n",
       "        vertical-align: top;\n",
       "    }\n",
       "\n",
       "    .dataframe thead th {\n",
       "        text-align: right;\n",
       "    }\n",
       "</style>\n",
       "<table border=\"1\" class=\"dataframe\">\n",
       "  <thead>\n",
       "    <tr style=\"text-align: right;\">\n",
       "      <th></th>\n",
       "      <th>source_page</th>\n",
       "      <th>source_link</th>\n",
       "      <th>page_extension</th>\n",
       "      <th>sitenav_form</th>\n",
       "    </tr>\n",
       "  </thead>\n",
       "  <tbody>\n",
       "    <tr>\n",
       "      <th>0</th>\n",
       "      <td>Eclectic Orthodoxy: Chronological Archive</td>\n",
       "      <td>https://afkimel.wordpress.com/</td>\n",
       "      <td>yyyy/mm/page/n</td>\n",
       "      <td>extend-url</td>\n",
       "    </tr>\n",
       "    <tr>\n",
       "      <th>1</th>\n",
       "      <td>Eclectic Orthodoxy: Category Archives</td>\n",
       "      <td>https://afkimel.wordpress.com/category/</td>\n",
       "      <td>category-tag/page/n</td>\n",
       "      <td>extend-url</td>\n",
       "    </tr>\n",
       "    <tr>\n",
       "      <th>2</th>\n",
       "      <td>First Things: DBH Archives</td>\n",
       "      <td>https://www.firstthings.com/author/david-b-hart/</td>\n",
       "      <td>page_1-13</td>\n",
       "      <td>extend-url</td>\n",
       "    </tr>\n",
       "    <tr>\n",
       "      <th>3</th>\n",
       "      <td>ND Church Life Journal: DBH Articles</td>\n",
       "      <td>https://churchlifejournal.nd.edu/articles/auth...</td>\n",
       "      <td>NaN</td>\n",
       "      <td>html-select</td>\n",
       "    </tr>\n",
       "    <tr>\n",
       "      <th>4</th>\n",
       "      <td>New Atlantis: DBH Articles</td>\n",
       "      <td>https://www.thenewatlantis.com/authors/david-h...</td>\n",
       "      <td>NaN</td>\n",
       "      <td>html-select</td>\n",
       "    </tr>\n",
       "  </tbody>\n",
       "</table>\n",
       "</div>"
      ],
      "text/plain": [
       "                                 source_page  \\\n",
       "0  Eclectic Orthodoxy: Chronological Archive   \n",
       "1      Eclectic Orthodoxy: Category Archives   \n",
       "2                 First Things: DBH Archives   \n",
       "3       ND Church Life Journal: DBH Articles   \n",
       "4                 New Atlantis: DBH Articles   \n",
       "\n",
       "                                         source_link       page_extension  \\\n",
       "0                     https://afkimel.wordpress.com/       yyyy/mm/page/n   \n",
       "1            https://afkimel.wordpress.com/category/  category-tag/page/n   \n",
       "2   https://www.firstthings.com/author/david-b-hart/            page_1-13   \n",
       "3  https://churchlifejournal.nd.edu/articles/auth...                  NaN   \n",
       "4  https://www.thenewatlantis.com/authors/david-h...                  NaN   \n",
       "\n",
       "  sitenav_form  \n",
       "0   extend-url  \n",
       "1   extend-url  \n",
       "2   extend-url  \n",
       "3  html-select  \n",
       "4  html-select  "
      ]
     },
     "execution_count": 11,
     "metadata": {},
     "output_type": "execute_result"
    }
   ],
   "source": [
    "import pandas as pd \n",
    "\n",
    "source_pages = pd.read_excel(\"data/sites_main.xlsx\", sheet_name=\"sources\")\n",
    "\n",
    "source_pages.head(5)"
   ]
  },
  {
   "cell_type": "code",
   "execution_count": null,
   "metadata": {},
   "outputs": [],
   "source": [
    "def scraper(row):\n",
    "     url = row.source_link\n",
    "     if row.sitenav_form == \"extend-url\":\n",
    "          \n"
   ]
  },
  {
   "cell_type": "code",
   "execution_count": 25,
   "metadata": {},
   "outputs": [
    {
     "data": {
      "text/plain": [
       "[<h2 class=\"entry-title\"><a href=\"https://afkimel.wordpress.com/2022/11/20/james-dominic-rooneys-critique-of-universalism/\" rel=\"bookmark\">James Dominic Rooney’s Critique of Universalism</a></h2>,\n",
       " <h2 class=\"entry-title\"><a href=\"https://afkimel.wordpress.com/2022/11/17/god-creates-the-world-from-the-cross-2/\" rel=\"bookmark\">God Creates the World from the Cross</a></h2>,\n",
       " <h2 class=\"entry-title\"><a href=\"https://afkimel.wordpress.com/2022/11/15/reading-the-scriptures-with-the-risen-christ/\" rel=\"bookmark\">Reading the Scriptures with the Risen Christ</a></h2>,\n",
       " <h2 class=\"entry-title\"><a href=\"https://afkimel.wordpress.com/2022/11/14/returning-to-the-paschal-christ-the-pre-post-modernity-of-john-behr/\" rel=\"bookmark\">Returning to the Paschal Christ: The Pre-Post-Modernity of John Behr</a></h2>,\n",
       " <h2 class=\"entry-title\"><a href=\"https://afkimel.wordpress.com/2022/11/12/__trashed-3/\" rel=\"bookmark\">On Judgment Day</a></h2>,\n",
       " <h2 class=\"entry-title\"><a href=\"https://afkimel.wordpress.com/2022/11/10/the-whole-mystery-of-christ/\" rel=\"bookmark\">The Whole Mystery of Christ</a></h2>,\n",
       " <h2 class=\"entry-title\"><a href=\"https://afkimel.wordpress.com/2022/11/09/the-great-syriac-scholar-sebastian-brock-talks-about-st-isaac-of-nineveh/\" rel=\"bookmark\">The Great Syriac Scholar Sebastian Brock Talks About St Isaac of Nineveh and the Compassionate Love of God</a></h2>,\n",
       " <h2 class=\"entry-title\"><a href=\"https://afkimel.wordpress.com/2022/11/08/watershed-nears/\" rel=\"bookmark\">Watershed Nears!</a></h2>]"
      ]
     },
     "execution_count": 25,
     "metadata": {},
     "output_type": "execute_result"
    }
   ],
   "source": [
    "import bs4 as bs \n",
    "import urllib.request\n",
    "\n",
    "example_page = urllib.request.urlopen(\"https://afkimel.wordpress.com/2022/\").read()\n",
    "\n",
    "example_soup = bs.BeautifulSoup(example_page,'html.parser')\n",
    "example_soup.find_all(\"h2\", \"entry-title\")"
   ]
  },
  {
   "cell_type": "code",
   "execution_count": 1,
   "metadata": {},
   "outputs": [],
   "source": [
    "def get_month_sources(row):\n",
    "  if row.sitenav_form == \"extend_url\":\n",
    "    curr_url = row.url + row.sitenav_form \n",
    "    # remove trailing 'n' from curr_url\n",
    "    # for year from 2022 to first year on site:\n",
    "      # replace 'yyyy' with 'year' in curr_url\n",
    "      # for month from 12 to 01: \n",
    "        # replace 'mm' with 'month' in curr_url:\n",
    "        # try: \n",
    "        #    page_one = BS object from curr_url\n",
    "        #    add curr_url, page_one to dataframe of valid source pages\n",
    "        #    n = 1\n",
    "        #    page_exists = True\n",
    "        #    while page_exists:\n",
    "        #     n += 1\n",
    "        #     page_n_url = curr_url + f'/{n}'\n",
    "        #     try: \n",
    "        #       page_n = BS object from page_n_url\n",
    "        #       add page_n_url, page_n to dataframe of valid source pages\n",
    "        \n",
    "        #     \n",
    "        #\n",
    "        #     \n",
    "        # except (catch error from declaring page_one): \n",
    "        #    add curr_url to list of invalid urls \n",
    "    # \n",
    "    #  \n",
    "    \n"
   ]
  },
  {
   "cell_type": "code",
   "execution_count": 3,
   "metadata": {},
   "outputs": [
    {
     "ename": "NameError",
     "evalue": "name 'example_soup' is not defined",
     "output_type": "error",
     "traceback": [
      "\u001b[0;31m---------------------------------------------------------------------------\u001b[0m",
      "\u001b[0;31mNameError\u001b[0m                                 Traceback (most recent call last)",
      "Cell \u001b[0;32mIn [3], line 1\u001b[0m\n\u001b[0;32m----> 1\u001b[0m example_soup\n",
      "\u001b[0;31mNameError\u001b[0m: name 'example_soup' is not defined"
     ]
    }
   ],
   "source": []
  }
 ],
 "metadata": {
  "kernelspec": {
   "display_name": "venv",
   "language": "python",
   "name": "python3"
  },
  "language_info": {
   "codemirror_mode": {
    "name": "ipython",
    "version": 3
   },
   "file_extension": ".py",
   "mimetype": "text/x-python",
   "name": "python",
   "nbconvert_exporter": "python",
   "pygments_lexer": "ipython3",
   "version": "3.10.6 (main, Nov 14 2022, 16:10:14) [GCC 11.3.0]"
  },
  "orig_nbformat": 4,
  "vscode": {
   "interpreter": {
    "hash": "ae86f6b8f547174514360fefc4747236ebc495a6ebd0ceb87a98688ff9dd343f"
   }
  }
 },
 "nbformat": 4,
 "nbformat_minor": 2
}
