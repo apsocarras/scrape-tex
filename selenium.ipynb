{
 "cells": [
  {
   "cell_type": "code",
   "execution_count": 7,
   "metadata": {},
   "outputs": [],
   "source": [
    "from selenium import webdriver\n",
    "from selenium.webdriver.common.by import By\n",
    "\n",
    "driver = webdriver.Firefox()\n",
    "url = \"https://substack.com/sign-in?redirect=%2Fsitemap&for_pub=davidbentleyhart\"\n",
    "driver.get(url)\n",
    "\n",
    "# click 'sign in with password' \n",
    "\n",
    "username = driver.find_element(By.NAME, \"email\")\n",
    "password = \n",
    "\n",
    "# password.send_keys(\"Pa55worD\")w\n",
    "\n",
    "# driver.find_element(By.NAME, \"submit\").click()"
   ]
  }
 ],
 "metadata": {
  "kernelspec": {
   "display_name": "venv",
   "language": "python",
   "name": "python3"
  },
  "language_info": {
   "codemirror_mode": {
    "name": "ipython",
    "version": 3
   },
   "file_extension": ".py",
   "mimetype": "text/x-python",
   "name": "python",
   "nbconvert_exporter": "python",
   "pygments_lexer": "ipython3",
   "version": "3.10.6"
  },
  "orig_nbformat": 4,
  "vscode": {
   "interpreter": {
    "hash": "ae86f6b8f547174514360fefc4747236ebc495a6ebd0ceb87a98688ff9dd343f"
   }
  }
 },
 "nbformat": 4,
 "nbformat_minor": 2
}
